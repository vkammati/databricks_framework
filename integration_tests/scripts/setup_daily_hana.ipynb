{
 "cells": [
  {
   "cell_type": "code",
   "execution_count": 0,
   "metadata": {
    "application/vnd.databricks.v1+cell": {
     "cellMetadata": {},
     "inputWidgets": {},
     "nuid": "3412eccc-c2cb-467c-8cd3-a20931a7336d",
     "showTitle": false,
     "title": ""
    }
   },
   "outputs": [],
   "source": [
    "%pip install --upgrade pip"
   ]
  },
  {
   "cell_type": "code",
   "execution_count": 0,
   "metadata": {
    "application/vnd.databricks.v1+cell": {
     "cellMetadata": {},
     "inputWidgets": {},
     "nuid": "2bfa3874-c606-4323-be2d-1dd0e0c72805",
     "showTitle": false,
     "title": ""
    }
   },
   "outputs": [],
   "source": [
    "%pip install -r ../../requirements.txt"
   ]
  },
  {
   "cell_type": "code",
   "execution_count": 0,
   "metadata": {
    "application/vnd.databricks.v1+cell": {
     "cellMetadata": {},
     "inputWidgets": {},
     "nuid": "a19c5b7b-cf8f-4aab-b20f-823b2b77496d",
     "showTitle": false,
     "title": ""
    }
   },
   "outputs": [],
   "source": [
    "import os\n",
    "os.environ[\"pipeline\"] = \"databricks\""
   ]
  },
  {
   "cell_type": "code",
   "execution_count": 0,
   "metadata": {
    "application/vnd.databricks.v1+cell": {
     "cellMetadata": {},
     "inputWidgets": {},
     "nuid": "e4d02760-b3e8-4c6e-a883-945414f9e9b7",
     "showTitle": false,
     "title": ""
    }
   },
   "outputs": [],
   "source": [
    "from datta_pipeline_library.core.base_config import (\n",
    "    BaseConfig,\n",
    "    CommonConfig,\n",
    "    EnvConfig,\n",
    "    GreatExpectationsConfig,\n",
    ")\n",
    "from datta_pipeline_library.helpers.adls import configure_spark_to_use_spn_to_write_to_adls_gen2\n",
    "from datta_pipeline_library.helpers.spn import AzureSPN"
   ]
  },
  {
   "cell_type": "code",
   "execution_count": 0,
   "metadata": {
    "application/vnd.databricks.v1+cell": {
     "cellMetadata": {},
     "inputWidgets": {},
     "nuid": "4a1caa27-5a6a-4068-ac3c-8543a5b64e17",
     "showTitle": true,
     "title": "Parameters"
    }
   },
   "outputs": [],
   "source": [
    "unique_repo_branch_id = dbutils.widgets.get(name=\"unique_repo_branch_id\")\n",
    "unique_repo_branch_id_schema = dbutils.widgets.get(name=\"unique_repo_branch_id_schema\")\n",
    "repos_path = dbutils.widgets.get(name=\"repos_path\")\n",
    "fi_d_hana_dlt_pipeline_id = dbutils.widgets.get(name=\"fi_d_hana_dlt_pipeline_id\")\n",
    "env = dbutils.widgets.get(name=\"env\")\n",
    "\n",
    "\n",
    "common_conf = CommonConfig.from_file(\"../../conf/common/common_conf.json\")\n",
    "env_conf = EnvConfig.from_file(f\"../../conf/{env}/conf.json\")\n",
    "\n",
    "kv = env_conf.kv_key\n",
    "\n",
    "# values from key vault\n",
    "tenant_id = dbutils.secrets.get(scope=kv, key=\"AZ-AS-SPN-DATTA-TENANT-ID\")\n",
    "spn_client_id = dbutils.secrets.get(scope=kv, key=env_conf.spn_client_id_key)\n",
    "spn_client_secret = dbutils.secrets.get(scope=kv, key=env_conf.spn_client_secret_key)\n",
    "#azure_conn_str = dbutils.secrets.get(scope=kv, key=env_conf.azure_connection_string_key)\n",
    "\n",
    "spn = AzureSPN(tenant_id, spn_client_id, spn_client_secret)\n",
    "\n",
    "#gx_config = GreatExpectationsConfig(azure_conn_str)\n",
    "#base_config = BaseConfig.from_confs(env_conf, common_conf, gx_config)\n",
    "base_config = BaseConfig.from_confs(env_conf, common_conf)\n",
    "base_config.set_unique_id(unique_repo_branch_id)\n",
    "base_config.set_unique_id_schema(unique_repo_branch_id_schema)\n",
    "\n",
    "repos_confidential_data_path = f\"file:/Workspace/{repos_path.strip('/')}/integration_tests/data/confidential/adf_dev\"\n",
    "repos_non_confidential_data_path = f\"file:/Workspace/{repos_path.strip('/')}/integration_tests/data/internal/adf_dev\"\n",
    "repos_hana_confidential_data_path = f\"{repos_confidential_data_path}/DS_HANA_CDD\"\n",
    "repos_hana_non_confidential_data_path = f\"{repos_non_confidential_data_path}/DS_HANA_CDD\"\n"
   ]
  },
  {
   "cell_type": "code",
   "execution_count": 0,
   "metadata": {
    "application/vnd.databricks.v1+cell": {
     "cellMetadata": {},
     "inputWidgets": {},
     "nuid": "c9de8d81-a330-413d-a2cb-2c48664119bb",
     "showTitle": false,
     "title": ""
    }
   },
   "outputs": [],
   "source": [
    "configure_spark_to_use_spn_to_write_to_adls_gen2(env_conf.storage_account, spn)"
   ]
  },
  {
   "cell_type": "code",
   "execution_count": 0,
   "metadata": {
    "application/vnd.databricks.v1+cell": {
     "cellMetadata": {},
     "inputWidgets": {},
     "nuid": "7987025f-4ed8-428d-83ab-77b543608c30",
     "showTitle": true,
     "title": "Configuration"
    }
   },
   "outputs": [],
   "source": [
    "uc_catalog = base_config.get_uc_catalog_name()\n",
    "\n",
    "raw_schema = base_config.get_uc_raw_schema()\n",
    "euh_schema = base_config.get_uc_euh_schema()\n",
    "\n",
    "landing_non_confidential_folder_path = base_config.get_landing_folder_path()\n",
    "landing_confidential_folder_path = base_config.get_landing_folder_path(True)\n",
    "\n",
    "\n",
    "raw_folder_path = base_config.get_raw_folder_path()\n",
    "euh_folder_path = base_config.get_euh_folder_path()\n",
    "print(\"unity catalog: \", uc_catalog)\n",
    "print(\"raw schema: \", raw_schema)\n",
    "print(\"euh schema: \", euh_schema)\n",
    "print(\"landing non confidential folder path: \", landing_non_confidential_folder_path)\n",
    "print(\"landing cofidential folder path: \", landing_confidential_folder_path)\n",
    "print(\"raw folder path: \", raw_folder_path)\n",
    "print(\"euh folder path: \", euh_folder_path)"
   ]
  },
  {
   "cell_type": "markdown",
   "metadata": {
    "application/vnd.databricks.v1+cell": {
     "cellMetadata": {},
     "inputWidgets": {},
     "nuid": "1fc0ff51-8507-432a-b271-7164aa16e921",
     "showTitle": false,
     "title": ""
    }
   },
   "source": [
    "## Delete UC schemas and tables"
   ]
  },
  {
   "cell_type": "code",
   "execution_count": 0,
   "metadata": {
    "application/vnd.databricks.v1+cell": {
     "cellMetadata": {},
     "inputWidgets": {},
     "nuid": "e3b1d8d4-1bae-476d-99ad-10b2e0c51f86",
     "showTitle": false,
     "title": ""
    }
   },
   "outputs": [],
   "source": [
    "if env == \"dev\":\n",
    "    spark.sql(f\"DROP SCHEMA IF EXISTS `{uc_catalog}`.`{raw_schema}` CASCADE\")"
   ]
  },
  {
   "cell_type": "code",
   "execution_count": 0,
   "metadata": {
    "application/vnd.databricks.v1+cell": {
     "cellMetadata": {},
     "inputWidgets": {},
     "nuid": "c012992b-1813-4410-93ea-3b7d217137e0",
     "showTitle": false,
     "title": ""
    }
   },
   "outputs": [],
   "source": [
    "if env == \"dev\":\n",
    "    spark.sql(f\"DROP SCHEMA IF EXISTS `{uc_catalog}`.`{euh_schema}` CASCADE\")"
   ]
  },
  {
   "cell_type": "markdown",
   "metadata": {
    "application/vnd.databricks.v1+cell": {
     "cellMetadata": {},
     "inputWidgets": {},
     "nuid": "4cb73154-24c6-46cb-bc8e-47f0182dbe46",
     "showTitle": false,
     "title": ""
    }
   },
   "source": [
    "## Delete ADLS folders"
   ]
  },
  {
   "cell_type": "code",
   "execution_count": 0,
   "metadata": {
    "application/vnd.databricks.v1+cell": {
     "cellMetadata": {},
     "inputWidgets": {},
     "nuid": "e8d124ef-5e11-45e3-8dfb-e5f5125cecd6",
     "showTitle": true,
     "title": "Delete landing non-confidential folder"
    }
   },
   "outputs": [],
   "source": [
    "if env == \"dev\":\n",
    "    dbutils.fs.rm(landing_confidential_folder_path, recurse=True)"
   ]
  },
  {
   "cell_type": "code",
   "execution_count": 0,
   "metadata": {
    "application/vnd.databricks.v1+cell": {
     "cellMetadata": {},
     "inputWidgets": {},
     "nuid": "ceba5b23-22f6-4e21-9f17-c90405292d9a",
     "showTitle": false,
     "title": ""
    }
   },
   "outputs": [],
   "source": [
    "if env == \"dev\":\n",
    "    dbutils.fs.rm(landing_non_confidential_folder_path, recurse=True)"
   ]
  },
  {
   "cell_type": "code",
   "execution_count": 0,
   "metadata": {
    "application/vnd.databricks.v1+cell": {
     "cellMetadata": {},
     "inputWidgets": {},
     "nuid": "98dbff86-76bc-4ac8-acf8-5b1e73d45f5b",
     "showTitle": true,
     "title": "Delete raw folder"
    }
   },
   "outputs": [],
   "source": [
    "if env == \"dev\":\n",
    "    dbutils.fs.rm(raw_folder_path, recurse=True)"
   ]
  },
  {
   "cell_type": "code",
   "execution_count": 0,
   "metadata": {
    "application/vnd.databricks.v1+cell": {
     "cellMetadata": {},
     "inputWidgets": {},
     "nuid": "12e1811d-9be4-4f1d-ae87-311c9633b81d",
     "showTitle": true,
     "title": "Delete EUH folder"
    }
   },
   "outputs": [],
   "source": [
    "if env == \"dev\":\n",
    "    dbutils.fs.rm(euh_folder_path, recurse=True)"
   ]
  },
  {
   "cell_type": "code",
   "execution_count": 0,
   "metadata": {
    "application/vnd.databricks.v1+cell": {
     "cellMetadata": {},
     "inputWidgets": {},
     "nuid": "88d93fbb-7f0f-4294-ab4c-c0be1864096e",
     "showTitle": true,
     "title": "Delete DLT pipeline metadata"
    }
   },
   "outputs": [],
   "source": [
    "if env == \"dev\":\n",
    "    dbutils.fs.rm(f\"dbfs:/pipelines/{fi_d_hana_dlt_pipeline_id}\", recurse=True)"
   ]
  },
  {
   "cell_type": "markdown",
   "metadata": {
    "application/vnd.databricks.v1+cell": {
     "cellMetadata": {},
     "inputWidgets": {},
     "nuid": "7d49486d-df46-48dc-9dab-f060e91f5157",
     "showTitle": false,
     "title": ""
    }
   },
   "source": [
    "## Add files to the landing layer"
   ]
  },
  {
   "cell_type": "code",
   "execution_count": 0,
   "metadata": {
    "application/vnd.databricks.v1+cell": {
     "cellMetadata": {},
     "inputWidgets": {},
     "nuid": "48ee2a9e-8710-4592-b55b-9367335ac139",
     "showTitle": false,
     "title": ""
    }
   },
   "outputs": [],
   "source": [
    "confidential_data_folders = [folder.path.strip(\"/\") for folder in dbutils.fs.ls(repos_confidential_data_path)]\n",
    "\n",
    "if not confidential_data_folders:\n",
    "    raise Exception(\"Integration tests data folder is empty\")"
   ]
  },
  {
   "cell_type": "code",
   "execution_count": 0,
   "metadata": {
    "application/vnd.databricks.v1+cell": {
     "cellMetadata": {},
     "inputWidgets": {},
     "nuid": "51d22ac5-9e06-4e62-b618-101851c33009",
     "showTitle": false,
     "title": ""
    }
   },
   "outputs": [],
   "source": [
    "non_confidential_data_folders = [folder.path.strip(\"/\") for folder in dbutils.fs.ls(repos_non_confidential_data_path)]\n",
    "\n",
    "if not non_confidential_data_folders:\n",
    "    raise Exception(\"Integration tests data folder is empty\")"
   ]
  },
  {
   "cell_type": "code",
   "execution_count": 0,
   "metadata": {
    "application/vnd.databricks.v1+cell": {
     "cellMetadata": {},
     "inputWidgets": {},
     "nuid": "2391a53d-e429-420f-a305-a1d27552c92b",
     "showTitle": false,
     "title": ""
    }
   },
   "outputs": [],
   "source": [
    "if repos_hana_non_confidential_data_path in non_confidential_data_folders:\n",
    "    dbutils.fs.cp(repos_hana_non_confidential_data_path, landing_non_confidential_folder_path, recurse=True)\n",
    "    print(\"Non-confidential hana data copied.\")\n",
    "else:\n",
    "    print(\"No non-confidential hana data in integration tests data folder.\")"
   ]
  },
  {
   "cell_type": "code",
   "execution_count": 0,
   "metadata": {
    "application/vnd.databricks.v1+cell": {
     "cellMetadata": {},
     "inputWidgets": {},
     "nuid": "43b8d21e-da2e-4ee1-b840-7996c00d0002",
     "showTitle": true,
     "title": "Add files to the Landing layer"
    }
   },
   "outputs": [],
   "source": [
    "if repos_hana_confidential_data_path in confidential_data_folders:\n",
    "    dbutils.fs.cp(repos_hana_confidential_data_path, landing_confidential_folder_path, recurse=True)\n",
    "    print(\"Confidential hana data copied\")\n",
    "else:\n",
    "    print(\"No confidential hana data in integration tests data folder.\")"
   ]
  },
  {
   "cell_type": "code",
   "execution_count": 0,
   "metadata": {
    "application/vnd.databricks.v1+cell": {
     "cellMetadata": {},
     "inputWidgets": {},
     "nuid": "ccb1d388-d042-4c6e-b6c4-fc29c9b91474",
     "showTitle": true,
     "title": "Create UC schemas"
    }
   },
   "outputs": [],
   "source": [
    "if env == \"dev\":\n",
    "    spark.sql(f\"CREATE SCHEMA IF NOT EXISTS `{uc_catalog}`.`{raw_schema}`\")"
   ]
  },
  {
   "cell_type": "code",
   "execution_count": 0,
   "metadata": {
    "application/vnd.databricks.v1+cell": {
     "cellMetadata": {},
     "inputWidgets": {},
     "nuid": "430963f4-84cf-4b38-9d8a-bde25182e02c",
     "showTitle": false,
     "title": ""
    }
   },
   "outputs": [],
   "source": [
    "if env == \"dev\":\n",
    "    spark.sql(f\"CREATE SCHEMA IF NOT EXISTS `{uc_catalog}`.`{euh_schema}`\")"
   ]
  }
 ],
 "metadata": {
  "application/vnd.databricks.v1+notebook": {
   "dashboards": [],
   "environmentMetadata": {
    "base_environment": "",
    "client": "1"
   },
   "language": "python",
   "notebookMetadata": {
    "pythonIndentUnit": 4
   },
   "notebookName": "setup_daily_hana",
   "widgets": {}
  }
 },
 "nbformat": 4,
 "nbformat_minor": 0
}

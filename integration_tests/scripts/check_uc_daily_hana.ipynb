{
 "cells": [
  {
   "cell_type": "code",
   "execution_count": 0,
   "metadata": {
    "application/vnd.databricks.v1+cell": {
     "cellMetadata": {},
     "inputWidgets": {},
     "nuid": "098a45e2-6823-46e0-b6f8-6d3b959bd0a7",
     "showTitle": false,
     "title": ""
    }
   },
   "outputs": [],
   "source": [
    "%pip install --upgrade pip"
   ]
  },
  {
   "cell_type": "code",
   "execution_count": 0,
   "metadata": {
    "application/vnd.databricks.v1+cell": {
     "cellMetadata": {},
     "inputWidgets": {},
     "nuid": "72e9ca17-7ddd-4151-9995-1b5ed33ffc51",
     "showTitle": false,
     "title": ""
    }
   },
   "outputs": [],
   "source": [
    "requirements_filepath = dbutils.widgets.get(name=\"requirements_filepath\").strip(\"/\")\n",
    "\n",
    "# NB: using `with open(...) as f:` raises error \"IndentationError: expected an indented block\"\n",
    "requirements_file = open(f\"/Workspace/{requirements_filepath}\")\n",
    "libraries = requirements_file.read().splitlines()\n",
    "libraries_str = \" \".join(libraries)\n",
    "requirements_file.close()\n",
    "\n",
    "%pip install $libraries_str"
   ]
  },
  {
   "cell_type": "code",
   "execution_count": 0,
   "metadata": {
    "application/vnd.databricks.v1+cell": {
     "cellMetadata": {},
     "inputWidgets": {},
     "nuid": "e5f5d700-71cf-4506-b19e-a4793b826f7d",
     "showTitle": false,
     "title": ""
    }
   },
   "outputs": [],
   "source": [
    "import json\n",
    "import os\n",
    "import requests\n",
    "from requests.exceptions import HTTPError\n",
    "import time\n",
    "\n",
    "os.environ[\"pipeline\"] = \"databricks\"\n",
    "\n",
    "from pyspark.sql.functions import col, collect_set\n",
    "\n",
    "from ci_cd_helpers.auth import get_dbx_http_header\n",
    "from ci_cd_helpers.azure import generate_spn_ad_token\n",
    "from ci_cd_helpers.workflows import poll_active_runs\n",
    "from datta_pipeline_library.core.base_config import (\n",
    "    BaseConfig,\n",
    "    CommonConfig,\n",
    "    EnvConfig,\n",
    "    GreatExpectationsConfig,\n",
    ")"
   ]
  },
  {
   "cell_type": "code",
   "execution_count": 0,
   "metadata": {
    "application/vnd.databricks.v1+cell": {
     "cellMetadata": {},
     "inputWidgets": {},
     "nuid": "c2ea4cf1-af2a-4a10-9ed5-2cdabce02eff",
     "showTitle": true,
     "title": "Parameters"
    }
   },
   "outputs": [],
   "source": [
    "unique_repo_branch_id = dbutils.widgets.get(name=\"unique_repo_branch_id\")\n",
    "unique_repo_branch_id_schema = dbutils.widgets.get(name=\"unique_repo_branch_id_schema\")\n",
    "env = dbutils.widgets.get(name=\"env\")\n",
    "#register_table_to_uc_workflow_id = dbutils.widgets.get(name=\"register_table_to_uc_workflow_id\")\n",
    "#host = dbutils.widgets.get(name=\"host\")"
   ]
  },
  {
   "cell_type": "code",
   "execution_count": 0,
   "metadata": {
    "application/vnd.databricks.v1+cell": {
     "cellMetadata": {},
     "inputWidgets": {},
     "nuid": "51e42336-6b02-4e08-be30-62769bc0f6cc",
     "showTitle": true,
     "title": "Configuration"
    }
   },
   "outputs": [],
   "source": [
    "common_conf = CommonConfig.from_file(\"../../conf/common/common_conf.json\")\n",
    "env_conf = EnvConfig.from_file(f\"../../conf/{env}/conf.json\")\n",
    "\n",
    "kv = env_conf.kv_key\n",
    "\n",
    "tenant_id = dbutils.secrets.get(scope=kv, key=\"AZ-AS-SPN-DATTA-TENANT-ID\")\n",
    "spn_client_id = dbutils.secrets.get(scope=kv, key=env_conf.spn_client_id_key)\n",
    "spn_client_secret = dbutils.secrets.get(scope=kv, key=env_conf.spn_client_secret_key)\n",
    "#azure_conn_str = dbutils.secrets.get(scope=kv, key=env_conf.azure_connection_string_key)\n",
    "\n",
    "#gx_config = GreatExpectationsConfig(azure_conn_str)\n",
    "\n",
    "#base_config = BaseConfig.from_confs(env_conf, common_conf, gx_config)\n",
    "base_config = BaseConfig.from_confs(env_conf, common_conf)\n",
    "base_config.set_unique_id(unique_repo_branch_id)\n",
    "base_config.set_unique_id_schema(unique_repo_branch_id_schema)\n",
    "\n",
    "spn_ad_token = generate_spn_ad_token(tenant_id, spn_client_id, spn_client_secret)\n",
    "dbx_http_header = get_dbx_http_header(spn_ad_token)\n",
    "\n",
    "uc_catalog = base_config.get_uc_catalog_name()\n",
    "\n",
    "raw_schema = base_config.get_uc_raw_schema()\n",
    "euh_schema = base_config.get_uc_euh_schema()"
   ]
  },
  {
   "cell_type": "code",
   "execution_count": 0,
   "metadata": {
    "application/vnd.databricks.v1+cell": {
     "cellMetadata": {},
     "inputWidgets": {},
     "nuid": "2a9e2d18-38b7-4227-b742-085782533afe",
     "showTitle": true,
     "title": "All schemas and tables"
    }
   },
   "outputs": [],
   "source": [
    "expected_schema_to_tables = {\n",
    "    raw_schema: {    \n",
    "        'bseg_stn',\n",
    "        'bseg_tsap',\n",
    "        'bkpf_stn',\n",
    "        'bkpf_tsap',\n",
    "        'glidxa_stn',\n",
    "        'glidxa_tsap',\n",
    "        'zstva_pe_dex_dtl_stn',\n",
    "        'zstva_pe_mc_dtl_stn'\n",
    "    },\n",
    "    euh_schema: {\n",
    "        'bseg_stn',\n",
    "        'bseg_tsap',\n",
    "        'bkpf_stn',\n",
    "        'bkpf_tsap',\n",
    "        'glidxa_stn',\n",
    "        'glidxa_tsap',\n",
    "        'zstva_pe_dex_dtl_stn',\n",
    "        'zstva_pe_mc_dtl_stn'\n",
    "    }\n",
    "}"
   ]
  },
  {
   "cell_type": "code",
   "execution_count": 0,
   "metadata": {
    "application/vnd.databricks.v1+cell": {
     "cellMetadata": {},
     "inputWidgets": {},
     "nuid": "f5d1e21f-aaea-43a0-948a-436efcf16fb6",
     "showTitle": true,
     "title": "Wait for register_table_to_uc job to finish all runs"
    }
   },
   "outputs": [],
   "source": [
    "#poll_active_runs(register_table_to_uc_workflow_id, host, dbx_http_header)"
   ]
  },
  {
   "cell_type": "code",
   "execution_count": 0,
   "metadata": {
    "application/vnd.databricks.v1+cell": {
     "cellMetadata": {},
     "inputWidgets": {},
     "nuid": "2f631550-41cf-407e-be48-115968104438",
     "showTitle": true,
     "title": "Check that tables/views exist"
    }
   },
   "outputs": [],
   "source": [
    "actual_schema_to_tables = (\n",
    "    spark\n",
    "        .table(\"system.information_schema.tables\")\n",
    "        .filter(\n",
    "            (col(\"table_catalog\") == uc_catalog) &\n",
    "            (col(\"table_schema\").isin(*expected_schema_to_tables.keys()))\n",
    "        )\n",
    "        .select(\"table_schema\", \"table_name\")\n",
    "        .filter(col('table_name').isin(['bseg_stn','bseg_tsap','bkpf_stn','bkpf_tsap','glidxa_stn','glidxa_tsap','zstva_pe_dex_dtl_stn','zstva_pe_mc_dtl_stn']))\n",
    "        .groupBy(\"table_schema\")\n",
    "        .agg(collect_set(\"table_name\").alias(\"tables\"))\n",
    "        .collect()\n",
    ")\n",
    "\n",
    "actual_schema_to_tables = {\n",
    "    row.table_schema: set(row.tables)\n",
    "    for row in actual_schema_to_tables\n",
    "}"
   ]
  },
  {
   "cell_type": "code",
   "execution_count": 0,
   "metadata": {
    "application/vnd.databricks.v1+cell": {
     "cellMetadata": {},
     "inputWidgets": {},
     "nuid": "c390bce4-4766-4a86-8a08-2b8aeb5894ce",
     "showTitle": false,
     "title": ""
    }
   },
   "outputs": [],
   "source": [
    "actual_schema_to_tables_formatted_for_display = {\n",
    "    schema: sorted(list(tables))\n",
    "    for schema, tables in actual_schema_to_tables.items()\n",
    "}\n",
    "\n",
    "print(json.dumps(actual_schema_to_tables_formatted_for_display, indent=4))"
   ]
  },
  {
   "cell_type": "code",
   "execution_count": 0,
   "metadata": {
    "application/vnd.databricks.v1+cell": {
     "cellMetadata": {},
     "inputWidgets": {},
     "nuid": "ec271f9e-b861-4c2b-8d6a-1032562ff828",
     "showTitle": false,
     "title": ""
    }
   },
   "outputs": [],
   "source": [
    "error_message = f\"\"\"Schemas and tables don't match:\n",
    "- Expected schemas and tables:\n",
    "{expected_schema_to_tables}\n",
    "\n",
    "- Actual schemas and tables:\n",
    "{actual_schema_to_tables}\n",
    "\"\"\"\n",
    "\n",
    "assert actual_schema_to_tables == expected_schema_to_tables, error_message"
   ]
  }
 ],
 "metadata": {
  "application/vnd.databricks.v1+notebook": {
   "dashboards": [],
   "environmentMetadata": {
    "base_environment": "",
    "client": "1"
   },
   "language": "python",
   "notebookMetadata": {
    "pythonIndentUnit": 4
   },
   "notebookName": "check_uc_daily_hana",
   "widgets": {}
  }
 },
 "nbformat": 4,
 "nbformat_minor": 0
}
